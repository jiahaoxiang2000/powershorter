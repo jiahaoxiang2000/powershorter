{
 "cells": [
  {
   "cell_type": "markdown",
   "id": "d8df0c28",
   "metadata": {},
   "source": [
    "for the beginning, the provider have one [beginner guide](https://yichen115.github.io/%E4%B8%8A%E6%89%8B%E6%8C%87%E5%8D%97/PowerShorter%E5%BC%80%E7%AE%B1%E4%B8%8E%E7%AE%80%E5%8D%95%E4%BD%BF%E7%94%A8/), here we will follow the guide to it."
   ]
  },
  {
   "cell_type": "markdown",
   "id": "3262459e",
   "metadata": {},
   "source": [
    "## init the power shorter\n",
    "\n",
    "the power shorter is based on the serial port, so we need find the serial device first, here we on the linux system, so the no need to install extra drivers, is show on the `/dev/ttyUSB0`."
   ]
  },
  {
   "cell_type": "code",
   "execution_count": 2,
   "id": "577a0bb5",
   "metadata": {},
   "outputs": [],
   "source": [
    "from power_shorter import *\n",
    "\n",
    "ps = PowerShorter('/dev/ttyUSB0')"
   ]
  },
  {
   "cell_type": "code",
   "execution_count": 27,
   "id": "afb9eecd",
   "metadata": {},
   "outputs": [],
   "source": [
    "import time\n",
    "\n",
    "# RELAY2 is electrically connected to the relay\n",
    "ps.relay(RELAY.RELAY2,1)\n",
    "time.sleep(1)  # 1 second delay\n",
    "ps.relay(RELAY.RELAY2,0)"
   ]
  },
  {
   "cell_type": "markdown",
   "id": "bca8c09c",
   "metadata": {},
   "source": [
    "## check our target device\n",
    "\n",
    "our target device is by the serial protocol to link our host machine on `/dev/ttyACM0`, when we write the 'AES\\n' to the serial port, it will return the AES encryption result. "
   ]
  },
  {
   "cell_type": "code",
   "execution_count": 120,
   "id": "a019da6e",
   "metadata": {},
   "outputs": [
    {
     "name": "stdout",
     "output_type": "stream",
     "text": [
      "Raw response (hex): 3533396261333161393838393132613862643863656339333331343737343032\n",
      "hex: 539ba31a988912a8bd8cec9331477402\n"
     ]
    }
   ],
   "source": [
    "import serial\n",
    "import time\n",
    "import binascii\n",
    "\n",
    "# Open serial connection to the target device\n",
    "try:\n",
    "    target_device = serial.Serial('/dev/ttyACM0', 38400, timeout=1)\n",
    "    time.sleep(1)  # Allow some time for the connection to establish\n",
    "    \n",
    "    # Send the AES command to trigger encryption\n",
    "    target_device.reset_input_buffer()  # Clear any existing input buffer\n",
    "    target_device.write(b'AES\\n')\n",
    "    \n",
    "    # Read the binary response\n",
    "    binary_response = target_device.read(32)  \n",
    "    \n",
    "    if binary_response:\n",
    "        # Print the raw binary response in hexadecimal\n",
    "        glitch_text = binascii.hexlify(binary_response).decode('utf-8')\n",
    "        print(f\"Raw response (hex): {glitch_text}\")\n",
    "        \n",
    "        # Try to interpret as ASCII if possible\n",
    "        try:\n",
    "            glitch_text = binary_response.decode('ascii', errors='replace')\n",
    "            print(f\"hex: {glitch_text}\")\n",
    "        except UnicodeDecodeError:\n",
    "            print(\"Cannot decode as ASCII text\")\n",
    "    else:\n",
    "        print(\"No response received from the device\")\n",
    "    \n",
    "    # Close the connection when done\n",
    "    target_device.close()\n",
    "    \n",
    "except serial.SerialException as e:\n",
    "    print(f\"Error: {e}\")\n",
    "    print(\"Make sure the device is connected and the port is correct.\")"
   ]
  },
  {
   "cell_type": "markdown",
   "id": "fd1b04ad",
   "metadata": {},
   "source": [
    "## Attack AES on the power shorter\n",
    "\n",
    "First we to see the attack glitch can be created by the power shorter.\n",
    "\n",
    "later here we use the `osrtoolkit` package to attack the AES. "
   ]
  },
  {
   "cell_type": "code",
   "execution_count": 145,
   "id": "811bd86c",
   "metadata": {},
   "outputs": [
    {
     "name": "stdout",
     "output_type": "stream",
     "text": [
      "Glitch PASS: 539ba31a988912a8bd8cec9331477402\n"
     ]
    }
   ],
   "source": [
    "import random\n",
    "import binascii\n",
    "\n",
    "# Define correct expected value\n",
    "correct_text = \"539ba31a988912a8bd8cec9331477402\"\n",
    "\n",
    "glitch_pulse = random.randint(8, 9)\n",
    "glitch_delay = random.randint(435600, 442400)\n",
    "ps.engine_cfg(Engine.E2,[(0,glitch_delay),(1,glitch_pulse),(0,1)])\n",
    "ps.arm(Engine.E2)\n",
    "\n",
    "time.sleep(0.5) \n",
    "target_device = serial.Serial('/dev/ttyACM0', 38400, timeout=1)\n",
    "target_device.reset_input_buffer()  # Clear any existing input buffer\n",
    "target_device.write(b'AES\\n')\n",
    "binary_response = target_device.read(32)\n",
    "\n",
    "\n",
    "if binary_response:\n",
    "    try:\n",
    "        \n",
    "        # Also decode as ASCII for display purposes\n",
    "        glitch_text = binary_response.decode('ascii', errors='replace')\n",
    "        \n",
    "        state = ps.state(Engine.E2)\n",
    "        if state == \"glitched\":\n",
    "            if glitch_text == correct_text:\n",
    "                print(f\"Glitch PASS: {glitch_text}\")\n",
    "            else:\n",
    "                print(f\"Glitch success: {glitch_text}\")\n",
    "        else:\n",
    "            print(f\"No glitch detected: {glitch_text}\")\n",
    "    except UnicodeDecodeError:\n",
    "        print(\"Cannot decode as ASCII text\")"
   ]
  }
 ],
 "metadata": {
  "kernelspec": {
   "display_name": ".venv",
   "language": "python",
   "name": "python3"
  },
  "language_info": {
   "codemirror_mode": {
    "name": "ipython",
    "version": 3
   },
   "file_extension": ".py",
   "mimetype": "text/x-python",
   "name": "python",
   "nbconvert_exporter": "python",
   "pygments_lexer": "ipython3",
   "version": "3.12.3"
  }
 },
 "nbformat": 4,
 "nbformat_minor": 5
}
