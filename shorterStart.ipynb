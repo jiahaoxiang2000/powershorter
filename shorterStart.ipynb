{
 "cells": [
  {
   "cell_type": "markdown",
   "id": "d8df0c28",
   "metadata": {},
   "source": [
    "for the beginning, the provider have one [beginner guide](https://yichen115.github.io/%E4%B8%8A%E6%89%8B%E6%8C%87%E5%8D%97/PowerShorter%E5%BC%80%E7%AE%B1%E4%B8%8E%E7%AE%80%E5%8D%95%E4%BD%BF%E7%94%A8/), here we will follow the guide to it."
   ]
  },
  {
   "cell_type": "markdown",
   "id": "3262459e",
   "metadata": {},
   "source": [
    "## init the power shorter\n",
    "\n",
    "the power shorter is based on the serial port, so we need find the serial device first, here we on the linux system, so the no need to install extra drivers, is show on the `/dev/ttyUSB0`."
   ]
  },
  {
   "cell_type": "code",
   "execution_count": 1,
   "id": "577a0bb5",
   "metadata": {},
   "outputs": [],
   "source": [
    "from power_shorter import *\n",
    "\n",
    "ps = PowerShorter('/dev/ttyUSB0')"
   ]
  },
  {
   "cell_type": "code",
   "execution_count": 34,
   "id": "afb9eecd",
   "metadata": {},
   "outputs": [],
   "source": [
    "import time\n",
    "\n",
    "# RELAY2 is electrically connected to the relay\n",
    "ps.relay(RELAY.RELAY2,1)\n",
    "time.sleep(1)  # 1 second delay\n",
    "ps.relay(RELAY.RELAY2,0)"
   ]
  },
  {
   "cell_type": "markdown",
   "id": "bca8c09c",
   "metadata": {},
   "source": [
    "## check our target device\n",
    "\n",
    "our target device is by the serial protocol to link our host machine on `/dev/ttyACM0`, when we write the 'AES\\n' to the serial port, it will return the AES encryption result. "
   ]
  },
  {
   "cell_type": "code",
   "execution_count": 40,
   "id": "a019da6e",
   "metadata": {},
   "outputs": [
    {
     "name": "stdout",
     "output_type": "stream",
     "text": [
      "Raw response (hex): 3533396261333161393838393132613862643863656339333331343737343032\n",
      "Formatted response: 35 33 39 62 61 33 31 61 39 38 38 39 31 32 61 38 62 64 38 63 65 63 39 33 33 31 34 37 37 34 30 32\n",
      "ASCII interpretation: 539ba31a988912a8bd8cec9331477402\n"
     ]
    }
   ],
   "source": [
    "import serial\n",
    "import time\n",
    "import binascii\n",
    "\n",
    "# Open serial connection to the target device\n",
    "try:\n",
    "    target_device = serial.Serial('/dev/ttyACM0', 38400, timeout=1)\n",
    "    time.sleep(1)  # Allow some time for the connection to establish\n",
    "    \n",
    "    # Send the AES command to trigger encryption\n",
    "    target_device.write(b'AES\\n')\n",
    "    \n",
    "    # Read the binary response\n",
    "    binary_response = target_device.read(32)  \n",
    "    \n",
    "    if binary_response:\n",
    "        # Print the raw binary response in hexadecimal\n",
    "        hex_string = binascii.hexlify(binary_response).decode('utf-8')\n",
    "        print(f\"Raw response (hex): {hex_string}\")\n",
    "        \n",
    "        # Print in a more readable format with bytes separated\n",
    "        formatted_hex = ' '.join(hex_string[i:i+2] for i in range(0, len(hex_string), 2))\n",
    "        print(f\"Formatted response: {formatted_hex}\")\n",
    "        \n",
    "        # Try to interpret as ASCII if possible\n",
    "        try:\n",
    "            ascii_text = binary_response.decode('ascii', errors='replace')\n",
    "            print(f\"ASCII interpretation: {ascii_text}\")\n",
    "        except UnicodeDecodeError:\n",
    "            print(\"Cannot decode as ASCII text\")\n",
    "    else:\n",
    "        print(\"No response received from the device\")\n",
    "    \n",
    "    # Close the connection when done\n",
    "    target_device.close()\n",
    "    \n",
    "except serial.SerialException as e:\n",
    "    print(f\"Error: {e}\")\n",
    "    print(\"Make sure the device is connected and the port is correct.\")"
   ]
  }
 ],
 "metadata": {
  "kernelspec": {
   "display_name": ".venv",
   "language": "python",
   "name": "python3"
  },
  "language_info": {
   "codemirror_mode": {
    "name": "ipython",
    "version": 3
   },
   "file_extension": ".py",
   "mimetype": "text/x-python",
   "name": "python",
   "nbconvert_exporter": "python",
   "pygments_lexer": "ipython3",
   "version": "3.12.3"
  }
 },
 "nbformat": 4,
 "nbformat_minor": 5
}
