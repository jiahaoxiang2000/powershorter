{
 "cells": [
  {
   "cell_type": "markdown",
   "id": "d8df0c28",
   "metadata": {},
   "source": [
    "for the beginning, the provider have one [beginner guide](https://yichen115.github.io/%E4%B8%8A%E6%89%8B%E6%8C%87%E5%8D%97/PowerShorter%E5%BC%80%E7%AE%B1%E4%B8%8E%E7%AE%80%E5%8D%95%E4%BD%BF%E7%94%A8/), here we will follow the guide to it."
   ]
  },
  {
   "cell_type": "markdown",
   "id": "3262459e",
   "metadata": {},
   "source": [
    "## init the power shorter\n",
    "\n",
    "the power shorter is based on the serial port, so we need find the serial device first, here we on the linux system, so the no need to install extra drivers, is show on the `/dev/ttyUSB0`."
   ]
  },
  {
   "cell_type": "code",
   "execution_count": 1,
   "id": "577a0bb5",
   "metadata": {},
   "outputs": [],
   "source": [
    "from power_shorter import *\n",
    "\n",
    "ps = PowerShorter('/dev/ttyUSB0')"
   ]
  },
  {
   "cell_type": "code",
   "execution_count": null,
   "id": "afb9eecd",
   "metadata": {},
   "outputs": [],
   "source": [
    "import time\n",
    "\n",
    "# RELAY2 is electrically connected to the relay\n",
    "ps.relay(RELAY.RELAY2,1)\n",
    "time.sleep(1)  # 1 second delay\n",
    "ps.relay(RELAY.RELAY2,0)"
   ]
  }
 ],
 "metadata": {
  "kernelspec": {
   "display_name": ".venv",
   "language": "python",
   "name": "python3"
  },
  "language_info": {
   "codemirror_mode": {
    "name": "ipython",
    "version": 3
   },
   "file_extension": ".py",
   "mimetype": "text/x-python",
   "name": "python",
   "nbconvert_exporter": "python",
   "pygments_lexer": "ipython3",
   "version": "3.12.3"
  }
 },
 "nbformat": 4,
 "nbformat_minor": 5
}
